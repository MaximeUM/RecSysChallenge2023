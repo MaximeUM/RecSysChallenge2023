{
 "cells": [
  {
   "attachments": {},
   "cell_type": "markdown",
   "metadata": {},
   "source": [
    "### Imports"
   ]
  },
  {
   "cell_type": "code",
   "execution_count": 1,
   "metadata": {},
   "outputs": [],
   "source": [
    "import pandas as pd\n",
    "import numpy as np\n",
    "import tensorflow as tf\n",
    "from tensorflow import keras\n",
    "from tensorflow.keras import layers\n",
    "\n",
    "from sklearn.metrics import confusion_matrix\n",
    "from sklearn.preprocessing import MinMaxScaler\n",
    "from sklearn.model_selection import train_test_split\n",
    "\n",
    "import os\n",
    "import glob\n",
    "import math\n",
    "\n",
    "from shutil import rmtree"
   ]
  },
  {
   "cell_type": "code",
   "execution_count": 2,
   "metadata": {},
   "outputs": [],
   "source": [
    "tf.random.set_seed(2023)\n",
    "import random\n",
    "random.seed(2023)\n",
    "np.random.seed(2023)"
   ]
  },
  {
   "cell_type": "code",
   "execution_count": 3,
   "metadata": {},
   "outputs": [],
   "source": [
    "from sklearn.experimental import enable_iterative_imputer\n",
    "from sklearn.impute import IterativeImputer"
   ]
  },
  {
   "cell_type": "code",
   "execution_count": 4,
   "metadata": {},
   "outputs": [
    {
     "data": {
      "text/plain": [
       "[]"
      ]
     },
     "execution_count": 4,
     "metadata": {},
     "output_type": "execute_result"
    }
   ],
   "source": [
    "tf.config.list_physical_devices('GPU')"
   ]
  },
  {
   "attachments": {},
   "cell_type": "markdown",
   "metadata": {},
   "source": [
    "### Clean folder"
   ]
  },
  {
   "cell_type": "code",
   "execution_count": 5,
   "metadata": {},
   "outputs": [],
   "source": [
    "chckpt_path = './models/'\n",
    "results_path = './results/'\n",
    "if os.path.exists(chckpt_path):\n",
    "    rmtree(chckpt_path)\n",
    "if os.path.exists(results_path):\n",
    "    rmtree(results_path)"
   ]
  },
  {
   "attachments": {},
   "cell_type": "markdown",
   "metadata": {},
   "source": [
    "### Load data"
   ]
  },
  {
   "cell_type": "code",
   "execution_count": 6,
   "metadata": {},
   "outputs": [],
   "source": [
    "path = \"data/train/\"\n",
    "all_files = glob.glob(os.path.join(path, \"*.csv\"))\n",
    "\n",
    "data = pd.concat((pd.read_csv(f, sep=\"\\t\") for f in all_files), ignore_index=True)"
   ]
  },
  {
   "cell_type": "code",
   "execution_count": 7,
   "metadata": {},
   "outputs": [],
   "source": [
    "train_data, val_data = train_test_split(data, test_size=0.25)"
   ]
  },
  {
   "attachments": {},
   "cell_type": "markdown",
   "metadata": {},
   "source": [
    "### Preprocess data"
   ]
  },
  {
   "cell_type": "code",
   "execution_count": 8,
   "metadata": {},
   "outputs": [],
   "source": [
    "cat_train = train_data.iloc[:,2:33]\n",
    "del cat_train[\"f_7\"] #Only one value --> useless\n",
    "bin_train = train_data.iloc[:,33:42]\n",
    "num_train = train_data.iloc[:,42:80]\n",
    "labels_train = train_data.iloc[:,80:82]\n",
    "\n",
    "cat_val = val_data.iloc[:,2:33]\n",
    "del cat_val[\"f_7\"] #Only one value --> useless\n",
    "bin_val = val_data.iloc[:,33:42]\n",
    "num_val = val_data.iloc[:,42:80]\n",
    "labels_val = val_data.iloc[:,80:82]"
   ]
  },
  {
   "cell_type": "code",
   "execution_count": 9,
   "metadata": {},
   "outputs": [],
   "source": [
    "#num_train.max()"
   ]
  },
  {
   "cell_type": "code",
   "execution_count": 10,
   "metadata": {},
   "outputs": [],
   "source": [
    "# Categorical variables\n",
    "cat_train_selected = cat_train.to_numpy()\n",
    "cat_val_selected = cat_val.to_numpy()\n",
    "# cat_test_selected = cat_test.to_numpy()\n",
    "\n",
    "# Numerical variables : estimate missing values and normalize \n",
    "imputer = IterativeImputer(max_iter=10, random_state=0)\n",
    "num_train_selected = imputer.fit_transform(num_train)\n",
    "scaler = MinMaxScaler()\n",
    "num_train_selected = scaler.fit_transform(num_train_selected)\n",
    "\n",
    "num_val_selected = scaler.transform(imputer.transform(num_val))\n",
    "# num_test_selected = scaler.transform(imputer.transform(num_test))\n",
    "\n",
    "# Binary variables\n",
    "bin_train_selected = bin_train.to_numpy()\n",
    "bin_val_selected = bin_val.to_numpy()\n",
    "# bin_test_selected = bin_test.to_numpy()\n",
    "\n",
    "# Output variables\n",
    "y_train = labels_train\n",
    "y_val = labels_val\n",
    "# y_is_clicked = y.iloc[:,0]\n",
    "y_train_is_installed = y_train.iloc[:,1]\n",
    "y_val_is_installed = y_val.iloc[:,1]"
   ]
  },
  {
   "cell_type": "code",
   "execution_count": 11,
   "metadata": {},
   "outputs": [],
   "source": [
    "for col_ind in range(cat_train_selected.shape[1]):\n",
    "\n",
    "    unique_values = np.unique(cat_train_selected[:, col_ind][~np.isnan(cat_train_selected[:,col_ind])]).astype(int)\n",
    "    # test_unique_values = np.unique(cat_test_selected[:, col_ind]).astype(int)\n",
    "\n",
    "    # Make categorical variables from 1 to n (n corresponding to the number of unique values for the corresponding categorical feature)\n",
    "    replacement_dict = dict()\n",
    "    for index, val in enumerate(unique_values):\n",
    "        index+=1\n",
    "        replacement_dict[val] = index\n",
    "\n",
    "    # Process training data (categorical)\n",
    "    for line_ind in range(len(cat_train_selected[:,col_ind])):\n",
    "        if math.isnan(cat_train_selected[line_ind, col_ind]): # 0 used for missing values\n",
    "            cat_train_selected[line_ind, col_ind] = 0\n",
    "        else:\n",
    "            cat_train_selected[line_ind, col_ind] = replacement_dict[int(cat_train_selected[line_ind, col_ind])] # Use the new value (from 1 to n)\n",
    "\n",
    "    # Process validation data (categorical)\n",
    "    for line_ind in range(len(cat_val_selected[:,col_ind])):\n",
    "        try:\n",
    "            if math.isnan(cat_val_selected[line_ind, col_ind]):\n",
    "                cat_val_selected[line_ind, col_ind] = 0 # 0 used for missing values\n",
    "            else:\n",
    "                cat_val_selected[line_ind, col_ind] = replacement_dict[int(cat_val_selected[line_ind, col_ind])] # Use the new value (from 1 to n)\n",
    "        except KeyError:\n",
    "            cat_val_selected[line_ind, col_ind] = 0 # If the value was not in the training data, treat as a missing value (because we can't train on it)\n",
    "    \n",
    "    # # Process test data (categorical)\n",
    "    # for line_ind in range(len(cat_test_selected[:,col_ind])):\n",
    "    #     try:\n",
    "    #         if math.isnan(cat_test_selected[line_ind, col_ind]):\n",
    "    #             cat_test_selected[line_ind, col_ind] = 0 # 0 used for missing values\n",
    "    #         else:\n",
    "    #             cat_test_selected[line_ind, col_ind] = replacement_dict[int(cat_test_selected[line_ind, col_ind])] # Use the new value (from 1 to n)\n",
    "    #     except KeyError:\n",
    "    #         cat_test_selected[line_ind, col_ind] = 0 # If the value was not in the training data, treat as a missing value (because we can't train on it)\n",
    "\n",
    "cat_train_selected = cat_train_selected.astype(int)\n",
    "cat_val_selected = cat_val_selected.astype(int)\n",
    "# cat_test_selected = cat_test_selected.astype(int)"
   ]
  },
  {
   "cell_type": "code",
   "execution_count": 12,
   "metadata": {},
   "outputs": [
    {
     "name": "stdout",
     "output_type": "stream",
     "text": [
      "Examples:\n",
      "    Total: 2614389\n",
      "    Positive: 455360 (17.42% of total)\n",
      "\n",
      "[-1.55632555]\n"
     ]
    }
   ],
   "source": [
    "# Compute bias to help the model with imbalanced dataset\n",
    "neg, pos = np.bincount(y_train_is_installed) \n",
    "total = neg + pos \n",
    "print('Examples:\\n    Total: {}\\n    Positive: {} ({:.2f}% of total)\\n'.format( total, pos, 100 * pos / total)) \n",
    "initial_bias = np.log([pos/neg]) \n",
    "print(initial_bias)"
   ]
  },
  {
   "cell_type": "code",
   "execution_count": 13,
   "metadata": {},
   "outputs": [],
   "source": [
    "# import tensorflow.keras.backend as K\n",
    "# tp = tf.keras.metrics.TruePositives()\n",
    "# fp = tf.keras.metrics.FalsePositives()\n",
    "\n",
    "# def pos(y_true, y_pred):\n",
    "#     fp = tf.keras.metrics.FalsePositives()\n",
    "#     fp.update_state(bigy[test], pred)\n",
    "#     fp = fp.result().numpy()\n",
    "\n",
    "#     fn = tf.keras.metrics.FalseNegatives()\n",
    "#     fn.update_state(bigy[test], pred)\n",
    "#     fn = fn.result().numpy()\n",
    "\n",
    "#     tn = tf.keras.metrics.TrueNegatives()\n",
    "#     tn.update_state(bigy[test], pred)\n",
    "#     tn = tn.result().numpy()\n",
    "\n",
    "# def neg():\n",
    "#     return tf.keras.metrics.TrueNegatives(y_true, y_pred) + tf.keras.metrics.FalseNegatives(y_true, y_pred)\n",
    "\n",
    "# # def neg(y_true, y_pred):\n",
    "# #     return K.sum(y_true[y_true==0], axis=0)\n",
    "\n",
    "# def fpr(y_true, y_pred):\n",
    "#     return K.sum(K.cast((1-y_true)*y_pred, 'float'), axis=0) #/ pos(y_true, y_pred)\n",
    "\n",
    "# def fnr(y_true, y_pred):\n",
    "#     return K.sum(K.cast(y_true*(1-y_pred), 'float'), axis=0) / neg(y_true, y_pred)\n",
    "\n",
    "# def tpr(y_true, y_pred):\n",
    "#     return K.sum(K.cast(y_true*y_pred, 'float'), axis=0) / pos(y_true, y_pred)\n",
    "\n",
    "# def tnr(y_true, y_pred):\n",
    "#     return K.sum(K.cast((1-y_true)*(1-y_pred), 'float'), axis=0) / neg(y_true, y_pred)"
   ]
  },
  {
   "cell_type": "code",
   "execution_count": 14,
   "metadata": {},
   "outputs": [
    {
     "name": "stderr",
     "output_type": "stream",
     "text": [
      "WARNING:absl:At this time, the v2.11+ optimizer `tf.keras.optimizers.Adam` runs slowly on M1/M2 Macs, please use the legacy Keras optimizer instead, located at `tf.keras.optimizers.legacy.Adam`.\n",
      "WARNING:absl:`lr` is deprecated in Keras optimizer, please use `learning_rate` or use the legacy optimizer, e.g.,tf.keras.optimizers.legacy.Adam.\n",
      "WARNING:absl:There is a known slowdown when using v2.11+ Keras optimizers on M1/M2 Macs. Falling back to the legacy Keras optimizer, i.e., `tf.keras.optimizers.legacy.Adam`.\n"
     ]
    }
   ],
   "source": [
    "embed_size = 256\n",
    "\n",
    "# Inputs\n",
    "cat_input_layer = layers.Input(shape=(cat_train_selected.shape[1],), dtype=tf.int64)\n",
    "bin_input_layer = layers.Input(shape=(bin_train_selected.shape[1],), dtype=tf.int64)\n",
    "num_input_layer = layers.Input(shape=(num_train_selected.shape[1],), dtype=tf.float64)\n",
    "\n",
    "embedding_layers = []\n",
    "for i in range(cat_train_selected.shape[1]):\n",
    "    num_values = len(set(cat_train_selected[:,i]))\n",
    "    if num_values <= embed_size:\n",
    "        embedding_layers.append(layers.Embedding(input_dim=num_values+1, output_dim=num_values, input_length=1, mask_zero=True)(cat_input_layer[:,i]))\n",
    "    else:\n",
    "        embedding_layers.append(layers.Embedding(input_dim=num_values+1, output_dim=embed_size, input_length=1, mask_zero=True)(cat_input_layer[:,i]))\n",
    "\n",
    "bin_dense_layer = layers.Dense(64, activation='relu')(bin_input_layer)\n",
    "num_dense_layer = layers.Dense(64, activation='relu')(num_input_layer)\n",
    "\n",
    "# Concat all inputs\n",
    "concatted = tf.keras.layers.Concatenate()([bin_dense_layer, num_dense_layer, *embedding_layers])\n",
    "\n",
    "# Hidden layers\n",
    "hidden_layer_1 = layers.Dense(500, activation='relu')(concatted)\n",
    "hidden_layer_2 = layers.Dense(250, activation='relu')(hidden_layer_1)\n",
    "hidden_layer_3 = layers.Dense(50, activation='relu')(hidden_layer_2)\n",
    "hidden_layer_4 = layers.Dense(100, activation='relu')(hidden_layer_3)\n",
    "hidden_layer_5 = layers.Dense(40, activation='relu')(hidden_layer_4)\n",
    "\n",
    "# Outputs\n",
    "output_bias = tf.keras.initializers.Constant(initial_bias)\n",
    "\n",
    "#output_1 = layers.Dense(1, activation='sigmoid', name=\"is_clicked\", bias_initializer=output_bias)(hidden_layer_5) # If we want to predict \"is_clicked\", use this output (give two outputs to the model instead of one).\n",
    "output_2 = layers.Dense(1, activation=\"sigmoid\", name=\"is_installed\", bias_initializer=output_bias)(hidden_layer_5)\n",
    "\n",
    "# Create model\n",
    "model = keras.Model(inputs=[cat_input_layer, bin_input_layer, num_input_layer], outputs=[output_2])\n",
    "# model = keras.Model(inputs=[cat_input_layer, bin_input_layer, num_input_layer], outputs=[output_1, output_2]) # If we want to predict \"is_clicked\" and \"is_installed\"\n",
    "\n",
    "# Compile model\n",
    "batch_size = 5000 \n",
    "learning_rate=0.001\n",
    "optimizer = keras.optimizers.Adam(lr=learning_rate)\n",
    "\n",
    "if len(model.outputs)>1:\n",
    "    monitor_name = 'val_is_installed_loss'\n",
    "else:\n",
    "    monitor_name = \"val_loss\"\n",
    "early_stopping = tf.keras.callbacks.EarlyStopping(monitor=monitor_name, patience=3)\n",
    "# mcp_save = tf.keras.callbacks.ModelCheckpoint(filepath= chckpt_path + '{epoch:04d}', save_best_only=True, save_weights_only=False, monitor='val_loss', mode='min', save_freq='epoch')\n",
    "mcp_save = tf.keras.callbacks.ModelCheckpoint(filepath= chckpt_path + '{epoch:04d}', save_best_only=False, save_weights_only=False, save_freq='epoch')\n",
    "\n",
    "model.compile(optimizer=optimizer, loss='binary_crossentropy', metrics=['accuracy'])  "
   ]
  },
  {
   "cell_type": "code",
   "execution_count": 15,
   "metadata": {},
   "outputs": [],
   "source": [
    "# tf.keras.utils.plot_model(model, \"model.png\")"
   ]
  },
  {
   "cell_type": "code",
   "execution_count": 16,
   "metadata": {},
   "outputs": [
    {
     "name": "stdout",
     "output_type": "stream",
     "text": [
      "Epoch 1/50\n",
      "523/523 [==============================] - ETA: 0s - loss: 0.3569 - accuracy: 0.8461INFO:tensorflow:Assets written to: ./models/0001/assets\n"
     ]
    },
    {
     "name": "stderr",
     "output_type": "stream",
     "text": [
      "INFO:tensorflow:Assets written to: ./models/0001/assets\n"
     ]
    },
    {
     "name": "stdout",
     "output_type": "stream",
     "text": [
      "523/523 [==============================] - 45s 83ms/step - loss: 0.3569 - accuracy: 0.8461 - val_loss: 0.3287 - val_accuracy: 0.8582\n",
      "Epoch 2/50\n",
      "523/523 [==============================] - ETA: 0s - loss: 0.3199 - accuracy: 0.8623INFO:tensorflow:Assets written to: ./models/0002/assets\n"
     ]
    },
    {
     "name": "stderr",
     "output_type": "stream",
     "text": [
      "INFO:tensorflow:Assets written to: ./models/0002/assets\n"
     ]
    },
    {
     "name": "stdout",
     "output_type": "stream",
     "text": [
      "523/523 [==============================] - 44s 83ms/step - loss: 0.3199 - accuracy: 0.8623 - val_loss: 0.3195 - val_accuracy: 0.8636\n",
      "Epoch 3/50\n",
      "523/523 [==============================] - ETA: 0s - loss: 0.3106 - accuracy: 0.8660INFO:tensorflow:Assets written to: ./models/0003/assets\n"
     ]
    },
    {
     "name": "stderr",
     "output_type": "stream",
     "text": [
      "INFO:tensorflow:Assets written to: ./models/0003/assets\n"
     ]
    },
    {
     "name": "stdout",
     "output_type": "stream",
     "text": [
      "523/523 [==============================] - 44s 84ms/step - loss: 0.3106 - accuracy: 0.8660 - val_loss: 0.3177 - val_accuracy: 0.8646\n",
      "Epoch 4/50\n",
      "523/523 [==============================] - ETA: 0s - loss: 0.3022 - accuracy: 0.8696INFO:tensorflow:Assets written to: ./models/0004/assets\n"
     ]
    },
    {
     "name": "stderr",
     "output_type": "stream",
     "text": [
      "INFO:tensorflow:Assets written to: ./models/0004/assets\n"
     ]
    },
    {
     "name": "stdout",
     "output_type": "stream",
     "text": [
      "523/523 [==============================] - 44s 84ms/step - loss: 0.3022 - accuracy: 0.8696 - val_loss: 0.3200 - val_accuracy: 0.8631\n",
      "Epoch 5/50\n",
      "523/523 [==============================] - ETA: 0s - loss: 0.2931 - accuracy: 0.8736INFO:tensorflow:Assets written to: ./models/0005/assets\n"
     ]
    },
    {
     "name": "stderr",
     "output_type": "stream",
     "text": [
      "INFO:tensorflow:Assets written to: ./models/0005/assets\n"
     ]
    },
    {
     "name": "stdout",
     "output_type": "stream",
     "text": [
      "523/523 [==============================] - 44s 83ms/step - loss: 0.2931 - accuracy: 0.8736 - val_loss: 0.3242 - val_accuracy: 0.8631\n",
      "Epoch 6/50\n",
      "523/523 [==============================] - ETA: 0s - loss: 0.2828 - accuracy: 0.8782INFO:tensorflow:Assets written to: ./models/0006/assets\n"
     ]
    },
    {
     "name": "stderr",
     "output_type": "stream",
     "text": [
      "INFO:tensorflow:Assets written to: ./models/0006/assets\n"
     ]
    },
    {
     "name": "stdout",
     "output_type": "stream",
     "text": [
      "523/523 [==============================] - 44s 84ms/step - loss: 0.2828 - accuracy: 0.8782 - val_loss: 0.3303 - val_accuracy: 0.8604\n",
      "Epoch 7/50\n",
      "523/523 [==============================] - ETA: 0s - loss: 0.2715 - accuracy: 0.8833INFO:tensorflow:Assets written to: ./models/0007/assets\n"
     ]
    },
    {
     "name": "stderr",
     "output_type": "stream",
     "text": [
      "INFO:tensorflow:Assets written to: ./models/0007/assets\n"
     ]
    },
    {
     "name": "stdout",
     "output_type": "stream",
     "text": [
      "523/523 [==============================] - 44s 84ms/step - loss: 0.2715 - accuracy: 0.8833 - val_loss: 0.3391 - val_accuracy: 0.8590\n",
      "Epoch 8/50\n",
      "523/523 [==============================] - ETA: 0s - loss: 0.2595 - accuracy: 0.8888INFO:tensorflow:Assets written to: ./models/0008/assets\n"
     ]
    },
    {
     "name": "stderr",
     "output_type": "stream",
     "text": [
      "INFO:tensorflow:Assets written to: ./models/0008/assets\n"
     ]
    },
    {
     "name": "stdout",
     "output_type": "stream",
     "text": [
      "523/523 [==============================] - 44s 85ms/step - loss: 0.2595 - accuracy: 0.8888 - val_loss: 0.3512 - val_accuracy: 0.8587\n",
      "Epoch 9/50\n",
      "523/523 [==============================] - ETA: 0s - loss: 0.2477 - accuracy: 0.8941INFO:tensorflow:Assets written to: ./models/0009/assets\n"
     ]
    },
    {
     "name": "stderr",
     "output_type": "stream",
     "text": [
      "INFO:tensorflow:Assets written to: ./models/0009/assets\n"
     ]
    },
    {
     "name": "stdout",
     "output_type": "stream",
     "text": [
      "523/523 [==============================] - 42s 80ms/step - loss: 0.2477 - accuracy: 0.8941 - val_loss: 0.3704 - val_accuracy: 0.8543\n",
      "Epoch 10/50\n",
      "523/523 [==============================] - ETA: 0s - loss: 0.2364 - accuracy: 0.8992INFO:tensorflow:Assets written to: ./models/0010/assets\n"
     ]
    },
    {
     "name": "stderr",
     "output_type": "stream",
     "text": [
      "INFO:tensorflow:Assets written to: ./models/0010/assets\n"
     ]
    },
    {
     "name": "stdout",
     "output_type": "stream",
     "text": [
      "523/523 [==============================] - 42s 81ms/step - loss: 0.2364 - accuracy: 0.8992 - val_loss: 0.3930 - val_accuracy: 0.8538\n",
      "Epoch 11/50\n",
      "523/523 [==============================] - ETA: 0s - loss: 0.2251 - accuracy: 0.9042INFO:tensorflow:Assets written to: ./models/0011/assets\n"
     ]
    },
    {
     "name": "stderr",
     "output_type": "stream",
     "text": [
      "INFO:tensorflow:Assets written to: ./models/0011/assets\n"
     ]
    },
    {
     "name": "stdout",
     "output_type": "stream",
     "text": [
      "523/523 [==============================] - 42s 81ms/step - loss: 0.2251 - accuracy: 0.9042 - val_loss: 0.4133 - val_accuracy: 0.8522\n",
      "Epoch 12/50\n",
      "523/523 [==============================] - ETA: 0s - loss: 0.2140 - accuracy: 0.9092INFO:tensorflow:Assets written to: ./models/0012/assets\n"
     ]
    },
    {
     "name": "stderr",
     "output_type": "stream",
     "text": [
      "INFO:tensorflow:Assets written to: ./models/0012/assets\n"
     ]
    },
    {
     "name": "stdout",
     "output_type": "stream",
     "text": [
      "523/523 [==============================] - 43s 81ms/step - loss: 0.2140 - accuracy: 0.9092 - val_loss: 0.4419 - val_accuracy: 0.8467\n",
      "Epoch 13/50\n",
      "523/523 [==============================] - ETA: 0s - loss: 0.2045 - accuracy: 0.9133INFO:tensorflow:Assets written to: ./models/0013/assets\n"
     ]
    },
    {
     "name": "stderr",
     "output_type": "stream",
     "text": [
      "INFO:tensorflow:Assets written to: ./models/0013/assets\n"
     ]
    },
    {
     "name": "stdout",
     "output_type": "stream",
     "text": [
      "523/523 [==============================] - 43s 82ms/step - loss: 0.2045 - accuracy: 0.9133 - val_loss: 0.4657 - val_accuracy: 0.8469\n",
      "Epoch 14/50\n",
      "523/523 [==============================] - ETA: 0s - loss: 0.1951 - accuracy: 0.9173INFO:tensorflow:Assets written to: ./models/0014/assets\n"
     ]
    },
    {
     "name": "stderr",
     "output_type": "stream",
     "text": [
      "INFO:tensorflow:Assets written to: ./models/0014/assets\n"
     ]
    },
    {
     "name": "stdout",
     "output_type": "stream",
     "text": [
      "523/523 [==============================] - 44s 84ms/step - loss: 0.1951 - accuracy: 0.9173 - val_loss: 0.4881 - val_accuracy: 0.8459\n",
      "Epoch 15/50\n",
      "523/523 [==============================] - ETA: 0s - loss: 0.1860 - accuracy: 0.9211INFO:tensorflow:Assets written to: ./models/0015/assets\n"
     ]
    },
    {
     "name": "stderr",
     "output_type": "stream",
     "text": [
      "INFO:tensorflow:Assets written to: ./models/0015/assets\n"
     ]
    },
    {
     "name": "stdout",
     "output_type": "stream",
     "text": [
      "523/523 [==============================] - 44s 85ms/step - loss: 0.1860 - accuracy: 0.9211 - val_loss: 0.5240 - val_accuracy: 0.8461\n",
      "Epoch 16/50\n",
      "523/523 [==============================] - ETA: 0s - loss: 0.1774 - accuracy: 0.9249INFO:tensorflow:Assets written to: ./models/0016/assets\n"
     ]
    },
    {
     "name": "stderr",
     "output_type": "stream",
     "text": [
      "INFO:tensorflow:Assets written to: ./models/0016/assets\n"
     ]
    },
    {
     "name": "stdout",
     "output_type": "stream",
     "text": [
      "523/523 [==============================] - 44s 83ms/step - loss: 0.1774 - accuracy: 0.9249 - val_loss: 0.5540 - val_accuracy: 0.8412\n",
      "Epoch 17/50\n",
      "523/523 [==============================] - ETA: 0s - loss: 0.1700 - accuracy: 0.9281INFO:tensorflow:Assets written to: ./models/0017/assets\n"
     ]
    },
    {
     "name": "stderr",
     "output_type": "stream",
     "text": [
      "INFO:tensorflow:Assets written to: ./models/0017/assets\n"
     ]
    },
    {
     "name": "stdout",
     "output_type": "stream",
     "text": [
      "523/523 [==============================] - 44s 84ms/step - loss: 0.1700 - accuracy: 0.9281 - val_loss: 0.5974 - val_accuracy: 0.8431\n",
      "Epoch 18/50\n",
      "523/523 [==============================] - ETA: 0s - loss: 0.1626 - accuracy: 0.9311INFO:tensorflow:Assets written to: ./models/0018/assets\n"
     ]
    },
    {
     "name": "stderr",
     "output_type": "stream",
     "text": [
      "INFO:tensorflow:Assets written to: ./models/0018/assets\n"
     ]
    },
    {
     "name": "stdout",
     "output_type": "stream",
     "text": [
      "523/523 [==============================] - 43s 82ms/step - loss: 0.1626 - accuracy: 0.9311 - val_loss: 0.6072 - val_accuracy: 0.8438\n",
      "Epoch 19/50\n",
      "523/523 [==============================] - ETA: 0s - loss: 0.1561 - accuracy: 0.9339INFO:tensorflow:Assets written to: ./models/0019/assets\n"
     ]
    },
    {
     "name": "stderr",
     "output_type": "stream",
     "text": [
      "INFO:tensorflow:Assets written to: ./models/0019/assets\n"
     ]
    },
    {
     "name": "stdout",
     "output_type": "stream",
     "text": [
      "523/523 [==============================] - 43s 83ms/step - loss: 0.1561 - accuracy: 0.9339 - val_loss: 0.6549 - val_accuracy: 0.8398\n",
      "Epoch 20/50\n",
      "523/523 [==============================] - ETA: 0s - loss: 0.1504 - accuracy: 0.9364INFO:tensorflow:Assets written to: ./models/0020/assets\n"
     ]
    },
    {
     "name": "stderr",
     "output_type": "stream",
     "text": [
      "INFO:tensorflow:Assets written to: ./models/0020/assets\n"
     ]
    },
    {
     "name": "stdout",
     "output_type": "stream",
     "text": [
      "523/523 [==============================] - 43s 82ms/step - loss: 0.1504 - accuracy: 0.9364 - val_loss: 0.6729 - val_accuracy: 0.8369\n",
      "Epoch 21/50\n",
      "523/523 [==============================] - ETA: 0s - loss: 0.1444 - accuracy: 0.9388INFO:tensorflow:Assets written to: ./models/0021/assets\n"
     ]
    },
    {
     "name": "stderr",
     "output_type": "stream",
     "text": [
      "INFO:tensorflow:Assets written to: ./models/0021/assets\n"
     ]
    },
    {
     "name": "stdout",
     "output_type": "stream",
     "text": [
      "523/523 [==============================] - 44s 84ms/step - loss: 0.1444 - accuracy: 0.9388 - val_loss: 0.7256 - val_accuracy: 0.8382\n",
      "Epoch 22/50\n",
      "523/523 [==============================] - ETA: 0s - loss: 0.1388 - accuracy: 0.9413INFO:tensorflow:Assets written to: ./models/0022/assets\n"
     ]
    },
    {
     "name": "stderr",
     "output_type": "stream",
     "text": [
      "INFO:tensorflow:Assets written to: ./models/0022/assets\n"
     ]
    },
    {
     "name": "stdout",
     "output_type": "stream",
     "text": [
      "523/523 [==============================] - 43s 81ms/step - loss: 0.1388 - accuracy: 0.9413 - val_loss: 0.7307 - val_accuracy: 0.8358\n",
      "Epoch 23/50\n",
      "523/523 [==============================] - ETA: 0s - loss: 0.1341 - accuracy: 0.9432INFO:tensorflow:Assets written to: ./models/0023/assets\n"
     ]
    },
    {
     "name": "stderr",
     "output_type": "stream",
     "text": [
      "INFO:tensorflow:Assets written to: ./models/0023/assets\n"
     ]
    },
    {
     "name": "stdout",
     "output_type": "stream",
     "text": [
      "523/523 [==============================] - 42s 81ms/step - loss: 0.1341 - accuracy: 0.9432 - val_loss: 0.7403 - val_accuracy: 0.8379\n",
      "Epoch 24/50\n",
      "523/523 [==============================] - ETA: 0s - loss: 0.1291 - accuracy: 0.9455INFO:tensorflow:Assets written to: ./models/0024/assets\n"
     ]
    },
    {
     "name": "stderr",
     "output_type": "stream",
     "text": [
      "INFO:tensorflow:Assets written to: ./models/0024/assets\n"
     ]
    },
    {
     "name": "stdout",
     "output_type": "stream",
     "text": [
      "523/523 [==============================] - 42s 81ms/step - loss: 0.1291 - accuracy: 0.9455 - val_loss: 0.7856 - val_accuracy: 0.8363\n",
      "Epoch 25/50\n",
      "523/523 [==============================] - ETA: 0s - loss: 0.1248 - accuracy: 0.9472INFO:tensorflow:Assets written to: ./models/0025/assets\n"
     ]
    },
    {
     "name": "stderr",
     "output_type": "stream",
     "text": [
      "INFO:tensorflow:Assets written to: ./models/0025/assets\n"
     ]
    },
    {
     "name": "stdout",
     "output_type": "stream",
     "text": [
      "523/523 [==============================] - 43s 81ms/step - loss: 0.1248 - accuracy: 0.9472 - val_loss: 0.8182 - val_accuracy: 0.8342\n",
      "Epoch 26/50\n",
      "523/523 [==============================] - ETA: 0s - loss: 0.1209 - accuracy: 0.9492INFO:tensorflow:Assets written to: ./models/0026/assets\n"
     ]
    },
    {
     "name": "stderr",
     "output_type": "stream",
     "text": [
      "INFO:tensorflow:Assets written to: ./models/0026/assets\n"
     ]
    },
    {
     "name": "stdout",
     "output_type": "stream",
     "text": [
      "523/523 [==============================] - 43s 82ms/step - loss: 0.1209 - accuracy: 0.9492 - val_loss: 0.8006 - val_accuracy: 0.8359\n",
      "Epoch 27/50\n",
      "523/523 [==============================] - ETA: 0s - loss: 0.1168 - accuracy: 0.9508INFO:tensorflow:Assets written to: ./models/0027/assets\n"
     ]
    },
    {
     "name": "stderr",
     "output_type": "stream",
     "text": [
      "INFO:tensorflow:Assets written to: ./models/0027/assets\n"
     ]
    },
    {
     "name": "stdout",
     "output_type": "stream",
     "text": [
      "523/523 [==============================] - 43s 82ms/step - loss: 0.1168 - accuracy: 0.9508 - val_loss: 0.8344 - val_accuracy: 0.8357\n",
      "Epoch 28/50\n",
      "523/523 [==============================] - ETA: 0s - loss: 0.1133 - accuracy: 0.9521INFO:tensorflow:Assets written to: ./models/0028/assets\n"
     ]
    },
    {
     "name": "stderr",
     "output_type": "stream",
     "text": [
      "INFO:tensorflow:Assets written to: ./models/0028/assets\n"
     ]
    },
    {
     "name": "stdout",
     "output_type": "stream",
     "text": [
      "523/523 [==============================] - 42s 81ms/step - loss: 0.1133 - accuracy: 0.9521 - val_loss: 0.8780 - val_accuracy: 0.8299\n",
      "Epoch 29/50\n",
      "523/523 [==============================] - ETA: 0s - loss: 0.1097 - accuracy: 0.9537INFO:tensorflow:Assets written to: ./models/0029/assets\n"
     ]
    },
    {
     "name": "stderr",
     "output_type": "stream",
     "text": [
      "INFO:tensorflow:Assets written to: ./models/0029/assets\n"
     ]
    },
    {
     "name": "stdout",
     "output_type": "stream",
     "text": [
      "523/523 [==============================] - 42s 80ms/step - loss: 0.1097 - accuracy: 0.9537 - val_loss: 0.8971 - val_accuracy: 0.8359\n",
      "Epoch 30/50\n",
      "523/523 [==============================] - ETA: 0s - loss: 0.1070 - accuracy: 0.9550INFO:tensorflow:Assets written to: ./models/0030/assets\n"
     ]
    },
    {
     "name": "stderr",
     "output_type": "stream",
     "text": [
      "INFO:tensorflow:Assets written to: ./models/0030/assets\n"
     ]
    },
    {
     "name": "stdout",
     "output_type": "stream",
     "text": [
      "523/523 [==============================] - 42s 80ms/step - loss: 0.1070 - accuracy: 0.9550 - val_loss: 0.8985 - val_accuracy: 0.8324\n",
      "Epoch 31/50\n",
      "523/523 [==============================] - ETA: 0s - loss: 0.1042 - accuracy: 0.9562INFO:tensorflow:Assets written to: ./models/0031/assets\n"
     ]
    },
    {
     "name": "stderr",
     "output_type": "stream",
     "text": [
      "INFO:tensorflow:Assets written to: ./models/0031/assets\n"
     ]
    },
    {
     "name": "stdout",
     "output_type": "stream",
     "text": [
      "523/523 [==============================] - 42s 80ms/step - loss: 0.1042 - accuracy: 0.9562 - val_loss: 0.9289 - val_accuracy: 0.8305\n",
      "Epoch 32/50\n",
      "523/523 [==============================] - ETA: 0s - loss: 0.1009 - accuracy: 0.9577INFO:tensorflow:Assets written to: ./models/0032/assets\n"
     ]
    },
    {
     "name": "stderr",
     "output_type": "stream",
     "text": [
      "INFO:tensorflow:Assets written to: ./models/0032/assets\n"
     ]
    },
    {
     "name": "stdout",
     "output_type": "stream",
     "text": [
      "523/523 [==============================] - 42s 81ms/step - loss: 0.1009 - accuracy: 0.9577 - val_loss: 0.9430 - val_accuracy: 0.8294\n",
      "Epoch 33/50\n",
      "523/523 [==============================] - ETA: 0s - loss: 0.0982 - accuracy: 0.9587INFO:tensorflow:Assets written to: ./models/0033/assets\n"
     ]
    },
    {
     "name": "stderr",
     "output_type": "stream",
     "text": [
      "INFO:tensorflow:Assets written to: ./models/0033/assets\n"
     ]
    },
    {
     "name": "stdout",
     "output_type": "stream",
     "text": [
      "523/523 [==============================] - 42s 81ms/step - loss: 0.0982 - accuracy: 0.9587 - val_loss: 0.9635 - val_accuracy: 0.8279\n",
      "Epoch 34/50\n",
      "523/523 [==============================] - ETA: 0s - loss: 0.0955 - accuracy: 0.9599INFO:tensorflow:Assets written to: ./models/0034/assets\n"
     ]
    },
    {
     "name": "stderr",
     "output_type": "stream",
     "text": [
      "INFO:tensorflow:Assets written to: ./models/0034/assets\n"
     ]
    },
    {
     "name": "stdout",
     "output_type": "stream",
     "text": [
      "523/523 [==============================] - 42s 80ms/step - loss: 0.0955 - accuracy: 0.9599 - val_loss: 1.0080 - val_accuracy: 0.8312\n",
      "Epoch 35/50\n",
      "523/523 [==============================] - ETA: 0s - loss: 0.0930 - accuracy: 0.9611INFO:tensorflow:Assets written to: ./models/0035/assets\n"
     ]
    },
    {
     "name": "stderr",
     "output_type": "stream",
     "text": [
      "INFO:tensorflow:Assets written to: ./models/0035/assets\n"
     ]
    },
    {
     "name": "stdout",
     "output_type": "stream",
     "text": [
      "523/523 [==============================] - 42s 80ms/step - loss: 0.0930 - accuracy: 0.9611 - val_loss: 0.9885 - val_accuracy: 0.8298\n",
      "Epoch 36/50\n",
      "523/523 [==============================] - ETA: 0s - loss: 0.0908 - accuracy: 0.9620INFO:tensorflow:Assets written to: ./models/0036/assets\n"
     ]
    },
    {
     "name": "stderr",
     "output_type": "stream",
     "text": [
      "INFO:tensorflow:Assets written to: ./models/0036/assets\n"
     ]
    },
    {
     "name": "stdout",
     "output_type": "stream",
     "text": [
      "523/523 [==============================] - 42s 81ms/step - loss: 0.0908 - accuracy: 0.9620 - val_loss: 1.0481 - val_accuracy: 0.8309\n",
      "Epoch 37/50\n",
      "523/523 [==============================] - ETA: 0s - loss: 0.0886 - accuracy: 0.9630INFO:tensorflow:Assets written to: ./models/0037/assets\n"
     ]
    },
    {
     "name": "stderr",
     "output_type": "stream",
     "text": [
      "INFO:tensorflow:Assets written to: ./models/0037/assets\n"
     ]
    },
    {
     "name": "stdout",
     "output_type": "stream",
     "text": [
      "523/523 [==============================] - 42s 81ms/step - loss: 0.0886 - accuracy: 0.9630 - val_loss: 1.0197 - val_accuracy: 0.8260\n",
      "Epoch 38/50\n",
      "523/523 [==============================] - ETA: 0s - loss: 0.0865 - accuracy: 0.9639INFO:tensorflow:Assets written to: ./models/0038/assets\n"
     ]
    },
    {
     "name": "stderr",
     "output_type": "stream",
     "text": [
      "INFO:tensorflow:Assets written to: ./models/0038/assets\n"
     ]
    },
    {
     "name": "stdout",
     "output_type": "stream",
     "text": [
      "523/523 [==============================] - 42s 80ms/step - loss: 0.0865 - accuracy: 0.9639 - val_loss: 1.0597 - val_accuracy: 0.8269\n",
      "Epoch 39/50\n",
      "523/523 [==============================] - ETA: 0s - loss: 0.0847 - accuracy: 0.9647INFO:tensorflow:Assets written to: ./models/0039/assets\n"
     ]
    },
    {
     "name": "stderr",
     "output_type": "stream",
     "text": [
      "INFO:tensorflow:Assets written to: ./models/0039/assets\n"
     ]
    },
    {
     "name": "stdout",
     "output_type": "stream",
     "text": [
      "523/523 [==============================] - 42s 80ms/step - loss: 0.0847 - accuracy: 0.9647 - val_loss: 1.0687 - val_accuracy: 0.8301\n",
      "Epoch 40/50\n",
      "523/523 [==============================] - ETA: 0s - loss: 0.0824 - accuracy: 0.9658INFO:tensorflow:Assets written to: ./models/0040/assets\n"
     ]
    },
    {
     "name": "stderr",
     "output_type": "stream",
     "text": [
      "INFO:tensorflow:Assets written to: ./models/0040/assets\n"
     ]
    },
    {
     "name": "stdout",
     "output_type": "stream",
     "text": [
      "523/523 [==============================] - 43s 81ms/step - loss: 0.0824 - accuracy: 0.9658 - val_loss: 1.0714 - val_accuracy: 0.8299\n",
      "Epoch 41/50\n",
      "523/523 [==============================] - ETA: 0s - loss: 0.0804 - accuracy: 0.9665INFO:tensorflow:Assets written to: ./models/0041/assets\n"
     ]
    },
    {
     "name": "stderr",
     "output_type": "stream",
     "text": [
      "INFO:tensorflow:Assets written to: ./models/0041/assets\n"
     ]
    },
    {
     "name": "stdout",
     "output_type": "stream",
     "text": [
      "523/523 [==============================] - 42s 80ms/step - loss: 0.0804 - accuracy: 0.9665 - val_loss: 1.1654 - val_accuracy: 0.8305\n",
      "Epoch 42/50\n",
      "523/523 [==============================] - ETA: 0s - loss: 0.0786 - accuracy: 0.9674INFO:tensorflow:Assets written to: ./models/0042/assets\n"
     ]
    },
    {
     "name": "stderr",
     "output_type": "stream",
     "text": [
      "INFO:tensorflow:Assets written to: ./models/0042/assets\n"
     ]
    },
    {
     "name": "stdout",
     "output_type": "stream",
     "text": [
      "523/523 [==============================] - 42s 80ms/step - loss: 0.0786 - accuracy: 0.9674 - val_loss: 1.1148 - val_accuracy: 0.8310\n",
      "Epoch 43/50\n",
      "523/523 [==============================] - ETA: 0s - loss: 0.0771 - accuracy: 0.9682INFO:tensorflow:Assets written to: ./models/0043/assets\n"
     ]
    },
    {
     "name": "stderr",
     "output_type": "stream",
     "text": [
      "INFO:tensorflow:Assets written to: ./models/0043/assets\n"
     ]
    },
    {
     "name": "stdout",
     "output_type": "stream",
     "text": [
      "523/523 [==============================] - 42s 81ms/step - loss: 0.0771 - accuracy: 0.9682 - val_loss: 1.1072 - val_accuracy: 0.8292\n",
      "Epoch 44/50\n",
      "523/523 [==============================] - ETA: 0s - loss: 0.0750 - accuracy: 0.9690INFO:tensorflow:Assets written to: ./models/0044/assets\n"
     ]
    },
    {
     "name": "stderr",
     "output_type": "stream",
     "text": [
      "INFO:tensorflow:Assets written to: ./models/0044/assets\n"
     ]
    },
    {
     "name": "stdout",
     "output_type": "stream",
     "text": [
      "523/523 [==============================] - 42s 81ms/step - loss: 0.0750 - accuracy: 0.9690 - val_loss: 1.1264 - val_accuracy: 0.8280\n",
      "Epoch 45/50\n",
      "523/523 [==============================] - ETA: 0s - loss: 0.0742 - accuracy: 0.9694INFO:tensorflow:Assets written to: ./models/0045/assets\n"
     ]
    },
    {
     "name": "stderr",
     "output_type": "stream",
     "text": [
      "INFO:tensorflow:Assets written to: ./models/0045/assets\n"
     ]
    },
    {
     "name": "stdout",
     "output_type": "stream",
     "text": [
      "523/523 [==============================] - 42s 81ms/step - loss: 0.0742 - accuracy: 0.9694 - val_loss: 1.1366 - val_accuracy: 0.8287\n",
      "Epoch 46/50\n",
      "523/523 [==============================] - ETA: 0s - loss: 0.0719 - accuracy: 0.9703INFO:tensorflow:Assets written to: ./models/0046/assets\n"
     ]
    },
    {
     "name": "stderr",
     "output_type": "stream",
     "text": [
      "INFO:tensorflow:Assets written to: ./models/0046/assets\n"
     ]
    },
    {
     "name": "stdout",
     "output_type": "stream",
     "text": [
      "523/523 [==============================] - 42s 81ms/step - loss: 0.0719 - accuracy: 0.9703 - val_loss: 1.2135 - val_accuracy: 0.8272\n",
      "Epoch 47/50\n",
      "523/523 [==============================] - ETA: 0s - loss: 0.0709 - accuracy: 0.9707INFO:tensorflow:Assets written to: ./models/0047/assets\n"
     ]
    },
    {
     "name": "stderr",
     "output_type": "stream",
     "text": [
      "INFO:tensorflow:Assets written to: ./models/0047/assets\n"
     ]
    },
    {
     "name": "stdout",
     "output_type": "stream",
     "text": [
      "523/523 [==============================] - 42s 81ms/step - loss: 0.0709 - accuracy: 0.9707 - val_loss: 1.1672 - val_accuracy: 0.8281\n",
      "Epoch 48/50\n",
      "523/523 [==============================] - ETA: 0s - loss: 0.0697 - accuracy: 0.9713INFO:tensorflow:Assets written to: ./models/0048/assets\n"
     ]
    },
    {
     "name": "stderr",
     "output_type": "stream",
     "text": [
      "INFO:tensorflow:Assets written to: ./models/0048/assets\n"
     ]
    },
    {
     "name": "stdout",
     "output_type": "stream",
     "text": [
      "523/523 [==============================] - 42s 81ms/step - loss: 0.0697 - accuracy: 0.9713 - val_loss: 1.2132 - val_accuracy: 0.8224\n",
      "Epoch 49/50\n",
      "523/523 [==============================] - ETA: 0s - loss: 0.0680 - accuracy: 0.9720INFO:tensorflow:Assets written to: ./models/0049/assets\n"
     ]
    },
    {
     "name": "stderr",
     "output_type": "stream",
     "text": [
      "INFO:tensorflow:Assets written to: ./models/0049/assets\n"
     ]
    },
    {
     "name": "stdout",
     "output_type": "stream",
     "text": [
      "523/523 [==============================] - 42s 81ms/step - loss: 0.0680 - accuracy: 0.9720 - val_loss: 1.1910 - val_accuracy: 0.8265\n",
      "Epoch 50/50\n",
      "523/523 [==============================] - ETA: 0s - loss: 0.0663 - accuracy: 0.9728INFO:tensorflow:Assets written to: ./models/0050/assets\n"
     ]
    },
    {
     "name": "stderr",
     "output_type": "stream",
     "text": [
      "INFO:tensorflow:Assets written to: ./models/0050/assets\n"
     ]
    },
    {
     "name": "stdout",
     "output_type": "stream",
     "text": [
      "523/523 [==============================] - 43s 82ms/step - loss: 0.0663 - accuracy: 0.9728 - val_loss: 1.2485 - val_accuracy: 0.8291\n"
     ]
    },
    {
     "data": {
      "text/plain": [
       "<keras.src.callbacks.History at 0x34f3bca60>"
      ]
     },
     "execution_count": 16,
     "metadata": {},
     "output_type": "execute_result"
    }
   ],
   "source": [
    "# model.fit((cat_train_selected, bin_train_selected, num_train_selected), y_train_is_installed, epochs = 50, batch_size=batch_size, \n",
    "#           validation_data=((cat_val_selected, bin_val_selected, num_val_selected), y_val_is_installed),\n",
    "#           callbacks=[early_stopping, mcp_save])\n",
    "\n",
    "model.fit((cat_train_selected, bin_train_selected, num_train_selected), y_train_is_installed, epochs = 50, batch_size=batch_size, \n",
    "          validation_data=((cat_val_selected, bin_val_selected, num_val_selected), y_val_is_installed),\n",
    "          callbacks=[mcp_save])"
   ]
  },
  {
   "cell_type": "code",
   "execution_count": 33,
   "metadata": {},
   "outputs": [],
   "source": [
    "list_of_models= glob.glob(chckpt_path+\"/*\") # * means all if need specific format then *.csv\n",
    "latest_model = max(list_of_models, key=os.path.getctime)\n",
    "# print(latest_file)\n",
    "# model = tf.keras.models.load_model(latest_model)\n",
    "model = tf.keras.models.load_model(\"./models/0010/\")"
   ]
  },
  {
   "cell_type": "code",
   "execution_count": 34,
   "metadata": {},
   "outputs": [],
   "source": [
    "def compute_metrics(y_true, y_pred):\n",
    "    y_pred[y_pred>=0.5]=1\n",
    "    y_pred[y_pred<0.5]=0\n",
    "\n",
    "    cm = confusion_matrix(y_true, y_pred)\n",
    "\n",
    "    tn, fp, fn, tp = cm.ravel()\n",
    "\n",
    "    tpr = round(tp / (tp+fn),4)\n",
    "    fpr = round(tp / (fp+tn),4)\n",
    "    tnr = round(tn / (tn+fp),4)\n",
    "    fnr = round(fn / (fn+tp),4)\n",
    "    acc = round((tp + tn) / (tp+fn+fp+tn),4)\n",
    "    precision = round(tp / (tp + fp),4)\n",
    "    f1 = round(2 * (precision * tpr) / (precision + tpr),4)\n",
    "    \n",
    "    return tpr, fpr, tnr, fnr, acc, precision, f1"
   ]
  },
  {
   "cell_type": "code",
   "execution_count": 37,
   "metadata": {},
   "outputs": [
    {
     "name": "stdout",
     "output_type": "stream",
     "text": [
      "175/175 [==============================] - 4s 23ms/step\n"
     ]
    },
    {
     "name": "stderr",
     "output_type": "stream",
     "text": [
      "/var/folders/jr/974ggbdj74sczwq4lflylfy00000gn/T/ipykernel_20517/2816523072.py:14: RuntimeWarning: invalid value encountered in scalar divide\n",
      "  precision = round(tp / (tp + fp),4)\n"
     ]
    },
    {
     "name": "stdout",
     "output_type": "stream",
     "text": [
      "523/523 [==============================] - 12s 23ms/step\n"
     ]
    },
    {
     "name": "stderr",
     "output_type": "stream",
     "text": [
      "/var/folders/jr/974ggbdj74sczwq4lflylfy00000gn/T/ipykernel_20517/2816523072.py:14: RuntimeWarning: invalid value encountered in scalar divide\n",
      "  precision = round(tp / (tp + fp),4)\n"
     ]
    }
   ],
   "source": [
    "# Val predictions\n",
    "y_pred_val = model.predict((cat_val_selected, bin_val_selected, num_val_selected), batch_size=batch_size)\n",
    "tpr_val, fpr_val, tnr_val, fnr_val, acc_val, precision_val, f1_val = compute_metrics(y_val_is_installed, y_pred_val)\n",
    "\n",
    "\n",
    "# Val dumb predictions\n",
    "y_pred_val_dumb = np.zeros(y_val_is_installed.shape)\n",
    "tpr_val_dumb, fpr_val_dumb, tnr_val_dumb, fnr_val_dumb, acc_val_dumb, precision_val_dumb, f1_val_dumb = compute_metrics(y_val_is_installed, y_pred_val_dumb)\n",
    "\n",
    "# Train predictions\n",
    "y_pred_train = model.predict((cat_train_selected, bin_train_selected, num_train_selected), batch_size=batch_size)\n",
    "tpr_train, fpr_train, tnr_train, fnr_train, acc_train, precision_train, f1_train = compute_metrics(y_train_is_installed, y_pred_train)\n",
    "\n",
    "# Train dumb predictions\n",
    "y_pred_train_dumb = np.zeros(y_train_is_installed.shape)\n",
    "tpr_train_dumb, fpr_train_dumb, tnr_train_dumb, fnr_train_dumb, acc_train_dumb, precision_train_dumb, f1_train_dumb = compute_metrics(y_train_is_installed, y_pred_train_dumb)"
   ]
  },
  {
   "cell_type": "code",
   "execution_count": 40,
   "metadata": {},
   "outputs": [
    {
     "data": {
      "text/plain": [
       "(0.5679, 0.1193, 0.8507, 0.4321, 0.8016, 0.4441, 0.4984, 0.8265)"
      ]
     },
     "execution_count": 40,
     "metadata": {},
     "output_type": "execute_result"
    }
   ],
   "source": [
    "tpr_val, fpr_val, tnr_val, fnr_val, acc_val, precision_val, f1_val, acc_val_dumb"
   ]
  },
  {
   "cell_type": "code",
   "execution_count": 41,
   "metadata": {},
   "outputs": [
    {
     "data": {
      "text/plain": [
       "(0.6626, 0.1398, 0.8668, 0.3374, 0.8313, 0.5121, 0.5777, 0.8258)"
      ]
     },
     "execution_count": 41,
     "metadata": {},
     "output_type": "execute_result"
    }
   ],
   "source": [
    "tpr_train, fpr_train, tnr_train, fnr_train, acc_train, precision_train, f1_train, acc_train_dumb"
   ]
  }
 ],
 "metadata": {
  "kernelspec": {
   "display_name": "Python 3",
   "language": "python",
   "name": "python3"
  },
  "language_info": {
   "codemirror_mode": {
    "name": "ipython",
    "version": 3
   },
   "file_extension": ".py",
   "mimetype": "text/x-python",
   "name": "python",
   "nbconvert_exporter": "python",
   "pygments_lexer": "ipython3",
   "version": "3.8.16"
  },
  "orig_nbformat": 4,
  "vscode": {
   "interpreter": {
    "hash": "31f2aee4e71d21fbe5cf8b01ff0e069b9275f58929596ceb00d14d90e3e16cd6"
   }
  }
 },
 "nbformat": 4,
 "nbformat_minor": 2
}
